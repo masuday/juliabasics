{
 "cells": [
  {
   "cell_type": "markdown",
   "id": "15e64207",
   "metadata": {},
   "source": [
    "# Juliaの基本的な使い方"
   ]
  },
  {
   "cell_type": "markdown",
   "id": "8da07556",
   "metadata": {},
   "source": [
    "## はじめに\n",
    "\n",
    "Juliaは科学技術計算を得意とするプログラミング言語である。行列演算を得意とし、統計解析に有用な機能を多く備えている。この研修では、Juliaを用いて統計解析の基礎を学ぶ。なお、以下の説明の一部は厳密ではない。より厳密な説明は、統計解析の各論の中で取り扱う。"
   ]
  },
  {
   "cell_type": "markdown",
   "id": "239e8a15",
   "metadata": {},
   "source": [
    "## Juliaの開始と終了"
   ]
  },
  {
   "cell_type": "markdown",
   "id": "b740ec3e",
   "metadata": {},
   "source": [
    "Juliaを開始すると、以下の表示が現れる。\n",
    "\n",
    "```julia\n",
    "               _\n",
    "   _       _ _(_)_     |  Documentation: https://docs.julialang.org\n",
    "  (_)     | (_) (_)    |\n",
    "   _ _   _| |_  __ _   |  Type \"?\" for help, \"]?\" for Pkg help.\n",
    "  | | | | | | |/ _` |  |\n",
    "  | | |_| | | | (_| |  |  Version 1.6.1 (2021-04-23)\n",
    " _/ |\\__'_|_|_|\\__'_|  |  Official https://julialang.org/ release\n",
    "|__/                   |\n",
    "\n",
    "julia>\n",
    "```\n",
    "\n",
    "最下行の`julia>`は、Juliaがキーボード入力を待っていることを意味する。\n",
    "ここで、キーボードから各種コマンドを入力すると、Juliaがそれを処理して、結果を画面に表示する。\n",
    "この対話型のプログラミング実行環境を、Read-Eval-Print-Loopの頭文字をとって、REPL（レプル・リプル）という。\n",
    "\n",
    "Juliaを終了するには、この画面で以下のように入力する（これ以降、`julia>`を省略する）。\n",
    "\n",
    "```julia\n",
    "exit()\n",
    "```"
   ]
  },
  {
   "cell_type": "markdown",
   "id": "1842295e",
   "metadata": {},
   "source": [
    "## 数値の入力と演算\n",
    "\n",
    "### 基本演算\n",
    "\n",
    "REPLでは、数値の演算ができる。以下に例を示す。なお、Juliaは`#`ではじまる行を無視するので、注釈を記入するためにこれを利用できる。"
   ]
  },
  {
   "cell_type": "code",
   "execution_count": 1,
   "id": "023347b2",
   "metadata": {},
   "outputs": [
    {
     "data": {
      "text/plain": [
       "22.0"
      ]
     },
     "execution_count": 1,
     "metadata": {},
     "output_type": "execute_result"
    }
   ],
   "source": [
    "# 四則演算(+, -, *, /)は、数学で定義される演算順序に従う\n",
    "2+5*8/2"
   ]
  },
  {
   "cell_type": "code",
   "execution_count": 2,
   "id": "5554618c",
   "metadata": {},
   "outputs": [
    {
     "data": {
      "text/plain": [
       "28.0"
      ]
     },
     "execution_count": 2,
     "metadata": {},
     "output_type": "execute_result"
    }
   ],
   "source": [
    "# かっこをつけると演算順位を変えることができる\n",
    "(2+5)*8/2"
   ]
  },
  {
   "cell_type": "code",
   "execution_count": 3,
   "id": "302d6e19",
   "metadata": {},
   "outputs": [
    {
     "data": {
      "text/plain": [
       "28.0"
      ]
     },
     "execution_count": 3,
     "metadata": {},
     "output_type": "execute_result"
    }
   ],
   "source": [
    "# 数値と演算子の間にスペースを入れても良い\n",
    "(2 + 5) * 8 / 2"
   ]
  },
  {
   "cell_type": "code",
   "execution_count": 4,
   "id": "16924b95",
   "metadata": {},
   "outputs": [
    {
     "data": {
      "text/plain": [
       "28.0"
      ]
     },
     "execution_count": 4,
     "metadata": {},
     "output_type": "execute_result"
    }
   ],
   "source": [
    "# かっこは何重にも入れ子にできる\n",
    "((2 + 5) * 8) / 2"
   ]
  },
  {
   "cell_type": "code",
   "execution_count": 5,
   "id": "db4b75ce",
   "metadata": {},
   "outputs": [
    {
     "data": {
      "text/plain": [
       "13"
      ]
     },
     "execution_count": 5,
     "metadata": {},
     "output_type": "execute_result"
    }
   ],
   "source": [
    "# べき乗 ^ は最優先される\n",
    "# 3*(2^2)+1 と書く方が混乱が少ない\n",
    "3*2^2+1"
   ]
  },
  {
   "cell_type": "markdown",
   "id": "570a54da",
   "metadata": {},
   "source": [
    "### 整数と実数(浮動小数点数)の区別\n",
    "\n",
    "Juliaは、整数と実数（正確には浮動小数点数）を区別する。"
   ]
  },
  {
   "cell_type": "code",
   "execution_count": 6,
   "id": "da7f59e1",
   "metadata": {},
   "outputs": [
    {
     "data": {
      "text/plain": [
       "6"
      ]
     },
     "execution_count": 6,
     "metadata": {},
     "output_type": "execute_result"
    }
   ],
   "source": [
    "# 数字のみを羅列すると整数として扱われる\n",
    "1 + 2 + 3"
   ]
  },
  {
   "cell_type": "code",
   "execution_count": 7,
   "id": "acc519c6",
   "metadata": {},
   "outputs": [
    {
     "data": {
      "text/plain": [
       "6.0"
      ]
     },
     "execution_count": 7,
     "metadata": {},
     "output_type": "execute_result"
    }
   ],
   "source": [
    "# 小数点付きの数値は実数として扱われる\n",
    "1.0 + 2.0 + 3.0"
   ]
  },
  {
   "cell_type": "code",
   "execution_count": 8,
   "id": "1a9279d3",
   "metadata": {},
   "outputs": [
    {
     "data": {
      "text/plain": [
       "1453.0"
      ]
     },
     "execution_count": 8,
     "metadata": {},
     "output_type": "execute_result"
    }
   ],
   "source": [
    "# 実数には指数表記が利用できる\n",
    "# たとえば 3.14e3 は 3.14*(10^3) を意味する\n",
    "1.23e3 + 2.23e2"
   ]
  },
  {
   "cell_type": "code",
   "execution_count": 9,
   "id": "2a9b8480",
   "metadata": {},
   "outputs": [
    {
     "data": {
      "text/plain": [
       "0.123"
      ]
     },
     "execution_count": 9,
     "metadata": {},
     "output_type": "execute_result"
    }
   ],
   "source": [
    "# 指数部分に負の値が入っていてもよい\n",
    "# たとえば 1.23e-3 = 1.23*(10^(-3)) である\n",
    "1.23e-3 * 1e2"
   ]
  },
  {
   "cell_type": "code",
   "execution_count": 10,
   "id": "e7031ad0",
   "metadata": {},
   "outputs": [
    {
     "data": {
      "text/plain": [
       "1003.0"
      ]
     },
     "execution_count": 10,
     "metadata": {},
     "output_type": "execute_result"
    }
   ],
   "source": [
    "# 整数と実数を混ぜると、実数を返す\n",
    "1 + 2 + 1e3"
   ]
  },
  {
   "cell_type": "code",
   "execution_count": 11,
   "id": "897d20f0",
   "metadata": {},
   "outputs": [
    {
     "data": {
      "text/plain": [
       "0.9999999999999998"
      ]
     },
     "execution_count": 11,
     "metadata": {},
     "output_type": "execute_result"
    }
   ],
   "source": [
    "# 実数は近似値である\n",
    "# 計算結果が理論値と一致するとは限らない\n",
    "1/7 + 1/7 + 1/7 + 1/7 + 1/7 + 1/7 + 1/7"
   ]
  },
  {
   "cell_type": "markdown",
   "id": "8587f561",
   "metadata": {},
   "source": [
    "### 数値関数\n",
    "\n",
    "演算記号だけで処理できない演算は、関数を用いて計算できる。関数は、英数字と`()`の組み合わせで表現される。かっこ内の数値が処理される。"
   ]
  },
  {
   "cell_type": "code",
   "execution_count": 12,
   "id": "bd22310e",
   "metadata": {},
   "outputs": [
    {
     "data": {
      "text/plain": [
       "1.4142135623730951"
      ]
     },
     "execution_count": 12,
     "metadata": {},
     "output_type": "execute_result"
    }
   ],
   "source": [
    "# 平方根; 結果は実数になる\n",
    "sqrt(2)"
   ]
  },
  {
   "cell_type": "code",
   "execution_count": 13,
   "id": "abb8adcc",
   "metadata": {},
   "outputs": [
    {
     "data": {
      "text/plain": [
       "2.0794415416798357"
      ]
     },
     "execution_count": 13,
     "metadata": {},
     "output_type": "execute_result"
    }
   ],
   "source": [
    "# 自然対数\n",
    "log(8)"
   ]
  },
  {
   "cell_type": "code",
   "execution_count": 14,
   "id": "92f28b95",
   "metadata": {},
   "outputs": [
    {
     "data": {
      "text/plain": [
       "2.718281828459045"
      ]
     },
     "execution_count": 14,
     "metadata": {},
     "output_type": "execute_result"
    }
   ],
   "source": [
    "# 指数関数（自然対数の底）\n",
    "exp(1)"
   ]
  },
  {
   "cell_type": "code",
   "execution_count": 15,
   "id": "1c860fdd",
   "metadata": {},
   "outputs": [
    {
     "data": {
      "text/plain": [
       "1.0"
      ]
     },
     "execution_count": 15,
     "metadata": {},
     "output_type": "execute_result"
    }
   ],
   "source": [
    "# 三角関数（単位はラジアン）\n",
    "cos(0)"
   ]
  },
  {
   "cell_type": "code",
   "execution_count": 16,
   "id": "5003cb30",
   "metadata": {},
   "outputs": [
    {
     "data": {
      "text/plain": [
       "1.2246467991473532e-16"
      ]
     },
     "execution_count": 16,
     "metadata": {},
     "output_type": "execute_result"
    }
   ],
   "source": [
    "# いくつかの定数は最初から用意されている\n",
    "# 例 π: 結果は近似値だが実質的に0であり正しい\n",
    "sin(pi)"
   ]
  },
  {
   "cell_type": "markdown",
   "id": "ee575961",
   "metadata": {},
   "source": [
    "### 変数の利用\n",
    "\n",
    "変数は、数値を一時的に記憶する目的で利用できる。"
   ]
  },
  {
   "cell_type": "code",
   "execution_count": 17,
   "id": "4a959597",
   "metadata": {},
   "outputs": [
    {
     "data": {
      "text/plain": [
       "10"
      ]
     },
     "execution_count": 17,
     "metadata": {},
     "output_type": "execute_result"
    }
   ],
   "source": [
    "# 変数 a に値を代入する\n",
    "# 等号は代入記号であって、値の等しさを表す数学的記号ではない\n",
    "# 変数名を事前に宣言しておく必要はない\n",
    "a = 10"
   ]
  },
  {
   "cell_type": "code",
   "execution_count": 18,
   "id": "acf85efc",
   "metadata": {},
   "outputs": [
    {
     "data": {
      "text/plain": [
       "20"
      ]
     },
     "execution_count": 18,
     "metadata": {},
     "output_type": "execute_result"
    }
   ],
   "source": [
    "# 同じ変数に代入すると、値は上書きされる\n",
    "a = 20"
   ]
  },
  {
   "cell_type": "code",
   "execution_count": 19,
   "id": "18718a55",
   "metadata": {},
   "outputs": [
    {
     "data": {
      "text/plain": [
       "1234567890"
      ]
     },
     "execution_count": 19,
     "metadata": {},
     "output_type": "execute_result"
    }
   ],
   "source": [
    "# 長い変数名も利用できる\n",
    "# 変数名には英数文字やアンダースコアが利用できる\n",
    "long_variable_name = 1234567890"
   ]
  },
  {
   "cell_type": "code",
   "execution_count": 20,
   "id": "253a8c3f",
   "metadata": {},
   "outputs": [
    {
     "data": {
      "text/plain": [
       "0.14978661367769955"
      ]
     },
     "execution_count": 20,
     "metadata": {},
     "output_type": "execute_result"
    }
   ],
   "source": [
    "# 変数を演算に利用できる\n",
    "log(a) / a"
   ]
  },
  {
   "cell_type": "code",
   "execution_count": 21,
   "id": "1da7b30d",
   "metadata": {},
   "outputs": [
    {
     "data": {
      "text/plain": [
       "20"
      ]
     },
     "execution_count": 21,
     "metadata": {},
     "output_type": "execute_result"
    }
   ],
   "source": [
    "# 変数の内容を表示するには、単に変数名をタイプする\n",
    "a"
   ]
  },
  {
   "cell_type": "code",
   "execution_count": 22,
   "id": "d09bbeab",
   "metadata": {},
   "outputs": [
    {
     "ename": "LoadError",
     "evalue": "UndefVarError: A not defined",
     "output_type": "error",
     "traceback": [
      "UndefVarError: A not defined",
      "",
      "Stacktrace:",
      " [1] top-level scope",
      "   @ In[22]:3",
      " [2] eval",
      "   @ .\\boot.jl:360 [inlined]",
      " [3] include_string(mapexpr::typeof(REPL.softscope), mod::Module, code::String, filename::String)",
      "   @ Base .\\loading.jl:1094"
     ]
    }
   ],
   "source": [
    "# 変数の大文字と小文字は区別される\n",
    "# 変数 a はすでに定義されたが、まだ A は定義されていない\n",
    "A + 1"
   ]
  },
  {
   "cell_type": "markdown",
   "id": "1507d305",
   "metadata": {},
   "source": [
    "## パッケージ"
   ]
  },
  {
   "cell_type": "markdown",
   "id": "90907867",
   "metadata": {},
   "source": [
    "いくつかの高度な関数は、Julia本体とは切り離されて、パッケージとして保存されている。これらの関数を使う前に、それが定義されているパッケージを呼び出しておく（ロードする）必要がある。これには `using` を使う。"
   ]
  },
  {
   "cell_type": "code",
   "execution_count": 23,
   "id": "d0c88a19",
   "metadata": {},
   "outputs": [],
   "source": [
    "# たとえば今日の日付を表示する関数 today() は、パッケージ Dates に保存されている\n",
    "# まずはこのパッケージの利用を明示する\n",
    "# このコマンドはjulia終了まで有効である\n",
    "using Dates"
   ]
  },
  {
   "cell_type": "code",
   "execution_count": 24,
   "id": "409f2d57",
   "metadata": {},
   "outputs": [
    {
     "data": {
      "text/plain": [
       "2021-09-28"
      ]
     },
     "execution_count": 24,
     "metadata": {},
     "output_type": "execute_result"
    }
   ],
   "source": [
    "# 続いて、目的とする関数を呼び出す\n",
    "today()"
   ]
  },
  {
   "cell_type": "code",
   "execution_count": 25,
   "id": "657320cd",
   "metadata": {},
   "outputs": [
    {
     "data": {
      "text/plain": [
       "2021-09-28"
      ]
     },
     "execution_count": 25,
     "metadata": {},
     "output_type": "execute_result"
    }
   ],
   "source": [
    "# この関数は、パッケージ名をつけて呼び出すこともできる\n",
    "Dates.today()"
   ]
  },
  {
   "cell_type": "markdown",
   "id": "488e3358",
   "metadata": {},
   "source": [
    "Juliaにはいくつかのパッケージが同梱されている。以下のパッケージは頻用するので、Julia起動時に`using`で読み込んでおくとよい。なお、パッケージ名は（可能な場合には）複数形の英単語である。\n",
    "\n",
    "|パッケージ名 |目的 |\n",
    "|:------------|:----|\n",
    "|`Statistics`|統計解析関数|\n",
    "|`LinearAlgebra`|ベクトルと行列の演算|\n",
    "|`DelimitedFiles`|ファイルの読み込み|\n",
    "|`Pkg`|パッケージ管理|\n",
    "|`Random`|乱数の生成|\n",
    "|`SparseArrays`|疎行列の生成|"
   ]
  },
  {
   "cell_type": "markdown",
   "id": "5d3c5226",
   "metadata": {},
   "source": [
    "一方、Juliaユーザーは、誰でも独自のパッケージを開発し、公開することができる。これらの外部パッケージは、公式サイトで公開されている。Juliaでは、外部パッケージをからダウンロードしてインストールする処理は自動化されている。以下の手順を参照のこと。"
   ]
  },
  {
   "cell_type": "code",
   "execution_count": 26,
   "id": "a0c5e466",
   "metadata": {},
   "outputs": [],
   "source": [
    "# 外部パッケージをインストールする前に、以下のコマンドを入力する\n",
    "using Pkg"
   ]
  },
  {
   "cell_type": "code",
   "execution_count": 27,
   "id": "4dcd6a0f",
   "metadata": {},
   "outputs": [],
   "source": [
    "# Pkg.install() を使って、外部パッケージをダウンロードしてインストールする\n",
    "# いちどこれを完了すれば、次回からはインストール作業は不要である\n",
    "# 以下の例は Distributions パッケージを利用可能にするものである\n",
    "# これには数秒から数分かかる\n",
    "Pkg.add(\"Distributions\")"
   ]
  },
  {
   "cell_type": "code",
   "execution_count": 28,
   "id": "4d8e12d4",
   "metadata": {},
   "outputs": [],
   "source": [
    "# インストール終了後、usingでパッケージをロードする\n",
    "using Distributions"
   ]
  },
  {
   "cell_type": "markdown",
   "id": "3f6a21e9",
   "metadata": {},
   "source": [
    "以下の外部パッケージは特に有用で、多くの人が利用している。すべてインストールしておくことを勧める。\n",
    "\n",
    "|パッケージ名 |目的 |\n",
    "|:------------|:----|\n",
    "|`Plots`|作図|\n",
    "|`Distributions`|確率分布にかかわる関数|\n",
    "|`StatsBase`|やや高度な統計解析関数|\n",
    "|`DataFrames`|データフレーム（データ構造）|\n",
    "|`GLM`|一般線形モデル|"
   ]
  },
  {
   "cell_type": "markdown",
   "id": "f2db26aa",
   "metadata": {},
   "source": [
    "## 単変量の確率分布"
   ]
  },
  {
   "cell_type": "code",
   "execution_count": 29,
   "id": "950e3b28",
   "metadata": {},
   "outputs": [],
   "source": [
    "# 以下のプログラムを実行する前に Distribution パッケージを読み込んでおく\n",
    "using Distributions"
   ]
  },
  {
   "cell_type": "markdown",
   "id": "33b40af0",
   "metadata": {},
   "source": [
    "### 確率関数と確率密度関数\n",
    "\n",
    "確率関数や確率密度関数の「高さ」は`pdf`関数で得られる。これはprobability density functionの略である。この関数には、分布をあらわすキーワードを与える。"
   ]
  },
  {
   "cell_type": "code",
   "execution_count": 30,
   "id": "4e3840f2",
   "metadata": {},
   "outputs": [
    {
     "data": {
      "text/plain": [
       "0.34867844010000004"
      ]
     },
     "execution_count": 30,
     "metadata": {},
     "output_type": "execute_result"
    }
   ],
   "source": [
    "# パラメータ n と p をもつ二項分布の、値 x における確率\n",
    "n = 10\n",
    "p = 0.1\n",
    "x = 0\n",
    "pdf(Binomial(n,p),x)"
   ]
  },
  {
   "cell_type": "code",
   "execution_count": 31,
   "id": "30bd779a",
   "metadata": {},
   "outputs": [
    {
     "data": {
      "text/plain": [
       "0.1403738958142806"
      ]
     },
     "execution_count": 31,
     "metadata": {},
     "output_type": "execute_result"
    }
   ],
   "source": [
    "# パラメータ m をもつポアソン分布の値 x における確率\n",
    "m = 5\n",
    "x = 3\n",
    "pdf(Poisson(m),x)"
   ]
  },
  {
   "cell_type": "code",
   "execution_count": 32,
   "id": "f6905021",
   "metadata": {},
   "outputs": [
    {
     "data": {
      "text/plain": [
       "0.05399096651318806"
      ]
     },
     "execution_count": 32,
     "metadata": {},
     "output_type": "execute_result"
    }
   ],
   "source": [
    "# 平均が m で標準偏差が s の正規分布の、値 x における高さ\n",
    "m = 0\n",
    "s = 1\n",
    "x = 2\n",
    "pdf(Normal(m,s),x)"
   ]
  },
  {
   "cell_type": "code",
   "execution_count": 33,
   "id": "7732348f",
   "metadata": {},
   "outputs": [
    {
     "data": {
      "text/plain": [
       "0.05399096651318806"
      ]
     },
     "execution_count": 33,
     "metadata": {},
     "output_type": "execute_result"
    }
   ],
   "source": [
    "# 標準正規分布 N(0,1)の場合、以下のように省略できる\n",
    "# 慣例として ϕ(x) と表記される\n",
    "pdf(Normal(),x)"
   ]
  },
  {
   "cell_type": "markdown",
   "id": "6fc3d86e",
   "metadata": {},
   "source": [
    "### 累積分布関数\n",
    "\n",
    "累積分布関数の高さ（ある分位点までの累積確率）は、`cdf`により得られる。これはcumulative distribution functionの略である。利用方法は`pdf`と似ている。"
   ]
  },
  {
   "cell_type": "code",
   "execution_count": 34,
   "id": "3d59df44",
   "metadata": {},
   "outputs": [
    {
     "data": {
      "text/plain": [
       "0.9998530974"
      ]
     },
     "execution_count": 34,
     "metadata": {},
     "output_type": "execute_result"
    }
   ],
   "source": [
    "# パラメータ n と p をもつ二項分布の、値 x までの累積確率\n",
    "n = 10\n",
    "p = 0.1\n",
    "x = 5\n",
    "cdf(Binomial(n,p),x)"
   ]
  },
  {
   "cell_type": "code",
   "execution_count": 35,
   "id": "a1a54af4",
   "metadata": {},
   "outputs": [
    {
     "data": {
      "text/plain": [
       "0.2650259152973618"
      ]
     },
     "execution_count": 35,
     "metadata": {},
     "output_type": "execute_result"
    }
   ],
   "source": [
    "# パラメータ m をもつポアソン分布の値 x までの累積確率\n",
    "m = 5\n",
    "x = 3\n",
    "cdf(Poisson(m),x)"
   ]
  },
  {
   "cell_type": "code",
   "execution_count": 36,
   "id": "f49df7b8",
   "metadata": {},
   "outputs": [
    {
     "data": {
      "text/plain": [
       "0.9772498680518208"
      ]
     },
     "execution_count": 36,
     "metadata": {},
     "output_type": "execute_result"
    }
   ],
   "source": [
    "# 平均が m で標準偏差が s の正規分布の、値 x までの累積確率\n",
    "m = 0\n",
    "s = 1\n",
    "x = 2\n",
    "cdf(Normal(m,s),x)"
   ]
  },
  {
   "cell_type": "code",
   "execution_count": 37,
   "id": "6d1c768a",
   "metadata": {},
   "outputs": [
    {
     "data": {
      "text/plain": [
       "0.9772498680518208"
      ]
     },
     "execution_count": 37,
     "metadata": {},
     "output_type": "execute_result"
    }
   ],
   "source": [
    "# 標準正規分布 N(0,1)の場合、以下のように省略できる\n",
    "# 慣例として Φ(x) と表記される\n",
    "cdf(Normal(),x)"
   ]
  },
  {
   "cell_type": "markdown",
   "id": "0f917d25",
   "metadata": {},
   "source": [
    "### 累積分布関数の逆関数\n",
    "\n",
    "累積分布関数CDFの逆関数は、`quantile`である。この関数は、累積確率を与えるとき、それに対応する分位点を返す。上記の結果と対応することに注意せよ。"
   ]
  },
  {
   "cell_type": "code",
   "execution_count": 38,
   "id": "b8091db4",
   "metadata": {},
   "outputs": [
    {
     "data": {
      "text/plain": [
       "5"
      ]
     },
     "execution_count": 38,
     "metadata": {},
     "output_type": "execute_result"
    }
   ],
   "source": [
    "# パラメータ n と p をもつ二項分布の、累積確率 pval に対応する分位点x\n",
    "p = 0.1\n",
    "pval = 0.9998530974\n",
    "quantile(Binomial(n,p),pval)"
   ]
  },
  {
   "cell_type": "code",
   "execution_count": 39,
   "id": "27231a3d",
   "metadata": {},
   "outputs": [
    {
     "data": {
      "text/plain": [
       "3"
      ]
     },
     "execution_count": 39,
     "metadata": {},
     "output_type": "execute_result"
    }
   ],
   "source": [
    "# パラメータ m をもつポアソン分布の累積確率 pval に対応する分位点x\n",
    "m = 5\n",
    "pval = 0.2650259152973618\n",
    "quantile(Poisson(m),pval)"
   ]
  },
  {
   "cell_type": "code",
   "execution_count": 40,
   "id": "7150ae86",
   "metadata": {},
   "outputs": [
    {
     "data": {
      "text/plain": [
       "2.0000000000000036"
      ]
     },
     "execution_count": 40,
     "metadata": {},
     "output_type": "execute_result"
    }
   ],
   "source": [
    "# 平均が m で標準偏差が s の正規分布の、累積確率 pval に対応する分位点x\n",
    "# 無視できる微少な誤差が含まれることに注意せよ\n",
    "m = 0\n",
    "s = 1\n",
    "pval = 0.9772498680518208\n",
    "quantile(Normal(m,s),pval)"
   ]
  },
  {
   "cell_type": "code",
   "execution_count": 41,
   "id": "1e7bde66",
   "metadata": {},
   "outputs": [
    {
     "data": {
      "text/plain": [
       "2.0000000000000036"
      ]
     },
     "execution_count": 41,
     "metadata": {},
     "output_type": "execute_result"
    }
   ],
   "source": [
    "# 標準正規分布 N(0,1)の場合、以下のように省略できる\n",
    "quantile(Normal(),pval)"
   ]
  }
 ],
 "metadata": {
  "kernelspec": {
   "display_name": "Julia 1.6.1",
   "language": "julia",
   "name": "julia-1.6"
  },
  "language_info": {
   "file_extension": ".jl",
   "mimetype": "application/julia",
   "name": "julia",
   "version": "1.6.1"
  }
 },
 "nbformat": 4,
 "nbformat_minor": 5
}
